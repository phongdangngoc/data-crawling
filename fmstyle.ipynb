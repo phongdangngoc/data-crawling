{
 "cells": [
  {
   "cell_type": "code",
   "execution_count": 17,
   "id": "dd7d1d6d",
   "metadata": {},
   "outputs": [
    {
     "name": "stderr",
     "output_type": "stream",
     "text": [
      "<ipython-input-17-be131299558b>:18: DeprecationWarning: executable_path has been deprecated, please pass in a Service object\n",
      "  driver = webdriver.Chrome(options=options, executable_path=r'D:\\Infinity\\Crawling Data\\Project_NoVir\\chromedriver.exe')\n"
     ]
    }
   ],
   "source": [
    "from bs4 import BeautifulSoup # this module helps in web scrapping.\n",
    "import bs4\n",
    "from time import sleep\n",
    "from selenium import webdriver\n",
    "from selenium.webdriver.chrome.options import Options\n",
    "from fake_useragent import UserAgent\n",
    "import pandas as pd\n",
    "\n",
    "# Setting up the chrome driver: pretend to be an organic user\n",
    "options = Options()\n",
    "ua = UserAgent()\n",
    "a = ua.random\n",
    "user_agent = ua.random\n",
    "options.add_argument(f'user-agent={user_agent}')\n",
    "    \n",
    "# The url for scraping\n",
    "url = 'https://fmstyle.com.vn/danh-muc-32/quan-jeans-nam.html'\n",
    "driver = webdriver.Chrome(options=options, executable_path=r'D:\\Infinity\\Crawling Data\\Project_NoVir\\chromedriver.exe')\n",
    "driver.get(url)\n",
    "sleep(3)\n",
    "driver.execute_script(\"window.scrollTo(0,document.body.scrollHeight)\")\n",
    "data = driver.page_source\n",
    "soup = BeautifulSoup(data, 'html.parser') # --> Data is stored in soup\n",
    "# print(soup.text)"
   ]
  },
  {
   "cell_type": "code",
   "execution_count": 18,
   "id": "22a5d29c",
   "metadata": {},
   "outputs": [
    {
     "name": "stdout",
     "output_type": "stream",
     "text": [
      "https://fmstyle.com.vn/images/categories/\n",
      "https://fmstyle.com.vn/images/categories/\n",
      "https://fmstyle.com.vn/images/categories/\n",
      "https://fmstyle.com.vn/images/categories/\n",
      "https://fmstyle.com.vn/images/categories/\n",
      "https://fmstyle.com.vn/images/categories/767576_546130978_phụ kiện nữ.jpg\n",
      "https://fmstyle.com.vn/images/categories/\n",
      "https://fmstyle.com.vn/images/categories/\n",
      "https://fmstyle.com.vn/images/categories/\n",
      "https://fmstyle.com.vn/images/categories/item1.png\n",
      "https://fmstyle.com.vn/images/categories/item1.png\n",
      "https://fmstyle.com.vn/images/categories/769853_1534829135_Áo len.jpg\n",
      "https://fmstyle.com.vn/images/categories/769779_1226355785_Sơ mi nam.jpg\n",
      "https://fmstyle.com.vn/images/categories/\n",
      "https://fmstyle.com.vn/images/categories/\n",
      "https://fmstyle.com.vn/images/categories/\n",
      "https://fmstyle.com.vn/images/categories/\n",
      "./images/appdownload.png\n",
      "./images/appstore.png\n",
      "./images/1253571238_logo.png\n",
      "https://image.fmstyle.com.vn/images/empty.png\n",
      "./images/1253571238_logo.png\n",
      "./images/logo.png\n",
      "https://fmstyle.com.vn//images/fbloginicon.png\n",
      "https://fmstyle.com.vn/images/banner/793219_985392652_uudaivanchuyen.jpg\n",
      "https://fmstyle.com.vn/images/banner/793203_1026365816_thanhtoanhkinhanhang.jpg\n",
      "https://fmstyle.com.vn/images/banner/793185_210709167_dathangnhanhchong.jpg\n",
      "https://fmstyle.com.vn/images/banner/793185_210709167_dathangnhanhchong.jpg\n",
      "https://image.fmstyle.com.vn//images/products/anhnho/791958_1742131841.jpg\n",
      "https://image.fmstyle.com.vn//images/products/anhnho/789237_279023446.jpg\n",
      "https://image.fmstyle.com.vn//images/products/anhnho/789028_1122598357.jpg\n",
      "https://image.fmstyle.com.vn//images/products/anhnho/788820_1597721165.jpg\n",
      "https://image.fmstyle.com.vn//images/products/anhnho/788970_611520466.jpg\n",
      "https://image.fmstyle.com.vn//images/products/anhnho/764365_521199519.jpg\n",
      "https://image.fmstyle.com.vn//images/products/anhnho/763565_859221949.jpg\n",
      "https://image.fmstyle.com.vn//images/products/anhnho/762335_1810853834.jpg\n",
      "https://image.fmstyle.com.vn//images/products/anhnho/766026_781394245.jpg\n",
      "https://image.fmstyle.com.vn//images/products/anhnho/762176_582928963.jpg\n",
      "https://fmstyle.com.vn/images/ctfmstyle.png\n",
      "https://fmstyle.com.vn/images/facebook.png\n",
      "https://fmstyle.com.vn/images/instagram.png\n",
      "https://fmstyle.com.vn/images/yotube.png\n",
      "https://fmstyle.com.vn/images/titok.png\n",
      "https://fmstyle.com.vn/images/shoppe.png\n",
      "https://fmstyle.com.vn/images/lazada.png\n",
      "https://fmstyle.com.vn/images/googleplay.png\n",
      "https://fmstyle.com.vn/images/app_store.png\n",
      "https://fmstyle.com.vn/images/payment/payment_cod.png\n",
      "https://fmstyle.com.vn/images/payment/payment_momo.png\n"
     ]
    }
   ],
   "source": [
    "images = soup.findAll('img')\n",
    "b = []\n",
    "for image in images:\n",
    "    #print image source\n",
    "    print(image['src'])"
   ]
  },
  {
   "cell_type": "code",
   "execution_count": null,
   "id": "2774899d",
   "metadata": {},
   "outputs": [],
   "source": []
  }
 ],
 "metadata": {
  "kernelspec": {
   "display_name": "Python 3",
   "language": "python",
   "name": "python3"
  },
  "language_info": {
   "codemirror_mode": {
    "name": "ipython",
    "version": 3
   },
   "file_extension": ".py",
   "mimetype": "text/x-python",
   "name": "python",
   "nbconvert_exporter": "python",
   "pygments_lexer": "ipython3",
   "version": "3.8.8"
  }
 },
 "nbformat": 4,
 "nbformat_minor": 5
}
