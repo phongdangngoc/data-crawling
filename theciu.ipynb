{
 "cells": [
  {
   "cell_type": "code",
   "execution_count": 37,
   "id": "2c6e8ff1",
   "metadata": {},
   "outputs": [
    {
     "name": "stderr",
     "output_type": "stream",
     "text": [
      "<ipython-input-37-4f80ceff4098>:18: DeprecationWarning: executable_path has been deprecated, please pass in a Service object\n",
      "  driver = webdriver.Chrome(options=options, executable_path=r'D:\\Infinity\\Crawling Data\\Project_NoVir\\chromedriver.exe')\n"
     ]
    }
   ],
   "source": [
    "from bs4 import BeautifulSoup # this module helps in web scrapping.\n",
    "import bs4\n",
    "from time import sleep\n",
    "from selenium import webdriver\n",
    "from selenium.webdriver.chrome.options import Options\n",
    "from fake_useragent import UserAgent\n",
    "import pandas as pd\n",
    "\n",
    "# Setting up the chrome driver: pretend to be an organic user\n",
    "options = Options()\n",
    "ua = UserAgent()\n",
    "a = ua.random\n",
    "user_agent = ua.random\n",
    "options.add_argument(f'user-agent={user_agent}')\n",
    "    \n",
    "# The url for scraping\n",
    "url = 'https://theciu.vn/'\n",
    "driver = webdriver.Chrome(options=options, executable_path=r'D:\\Infinity\\Crawling Data\\Project_NoVir\\chromedriver.exe')\n",
    "driver.get(url)\n",
    "sleep(3)\n",
    "data = driver.page_source\n",
    "soup = BeautifulSoup(data, 'html.parser') # --> Data is stored in soup\n",
    "# print(soup.text)"
   ]
  },
  {
   "cell_type": "code",
   "execution_count": 38,
   "id": "f2f11631",
   "metadata": {},
   "outputs": [],
   "source": [
    "product_price_list = []\n",
    "img_list= []\n",
    "product_name_list = []"
   ]
  },
  {
   "cell_type": "code",
   "execution_count": 39,
   "id": "9d5db1a4",
   "metadata": {},
   "outputs": [],
   "source": [
    "#Product price\n",
    "for product_price in soup.select('div[class*=\"box-text text-center\"]'):\n",
    "    product_price_list.append(product_price.select('span[class=\"woocommerce-Price-amount amount\"]')[0].text.strip())\n",
    "#Product name\n",
    "for product in soup.select('div[class*=\"box-text text-center\"]'):\n",
    "    product_name_list.append(product.select('a[class=\"woocommerce-LoopProduct-link woocommerce-loop-product__link\"]')[0].text.strip())\n",
    "#Product img\n",
    "for img in soup.select('div[class*=\"image-zoom image-overlay-add-50 image-cover\"]'):\n",
    "    img_list.append(img.select('img[class=\"attachment-large size-large\"]')[0].get_attribute_list('src'))"
   ]
  },
  {
   "cell_type": "code",
   "execution_count": 40,
   "id": "a30e246c",
   "metadata": {},
   "outputs": [
    {
     "data": {
      "text/html": [
       "<div>\n",
       "<style scoped>\n",
       "    .dataframe tbody tr th:only-of-type {\n",
       "        vertical-align: middle;\n",
       "    }\n",
       "\n",
       "    .dataframe tbody tr th {\n",
       "        vertical-align: top;\n",
       "    }\n",
       "\n",
       "    .dataframe thead th {\n",
       "        text-align: right;\n",
       "    }\n",
       "</style>\n",
       "<table border=\"1\" class=\"dataframe\">\n",
       "  <thead>\n",
       "    <tr style=\"text-align: right;\">\n",
       "      <th></th>\n",
       "      <th>product_price</th>\n",
       "      <th>product_img</th>\n",
       "    </tr>\n",
       "    <tr>\n",
       "      <th>product_name</th>\n",
       "      <th></th>\n",
       "      <th></th>\n",
       "    </tr>\n",
       "  </thead>\n",
       "  <tbody>\n",
       "    <tr>\n",
       "      <th>Áo ba lỗ croptop – Yomost Top</th>\n",
       "      <td>150.000 VND</td>\n",
       "      <td>[https://theciu.vn/wp-content/uploads/2022/05/z3390940497596_e4e44b95cee9ec89ad34daee7d0c0b17-600x800.jpg]</td>\n",
       "    </tr>\n",
       "    <tr>\n",
       "      <th>Áo kiểu tay dài sọc phối nút THE CIU – Fora Top</th>\n",
       "      <td>195.000 VND</td>\n",
       "      <td>[https://theciu.vn/wp-content/uploads/2022/05/z3375203135929_43e29b7917977108649910d1347ac4cc-600x800.jpg]</td>\n",
       "    </tr>\n",
       "    <tr>\n",
       "      <th>Áo kiều croptop nữ cổ vuông – Hava Top</th>\n",
       "      <td>165.000 VND</td>\n",
       "      <td>[https://theciu.vn/wp-content/uploads/2022/05/z3390551996112_326419537fc97c5c79425a9dea0864de-1-600x800.jpg]</td>\n",
       "    </tr>\n",
       "    <tr>\n",
       "      <th>Áo khoác nữ form rộng Verity Jacket</th>\n",
       "      <td>325.000 VND</td>\n",
       "      <td>[https://theciu.vn/wp-content/uploads/2022/05/z3382177144192_40a1cb007a71574dd8a3078f190c190f-600x800.jpg]</td>\n",
       "    </tr>\n",
       "    <tr>\n",
       "      <th>Đầm xoè tay ngắn xoắn ngực – Ruby Dress</th>\n",
       "      <td>320.000 VND</td>\n",
       "      <td>[https://theciu.vn/wp-content/uploads/2022/04/z3375508645299_505bf31c0093612afc88f07f96c9f406-600x800.jpg]</td>\n",
       "    </tr>\n",
       "  </tbody>\n",
       "</table>\n",
       "</div>"
      ],
      "text/plain": [
       "                                                product_price                                                                                                   product_img\n",
       "product_name                                                                                                                                                               \n",
       "Áo ba lỗ croptop – Yomost Top                     150.000 VND    [https://theciu.vn/wp-content/uploads/2022/05/z3390940497596_e4e44b95cee9ec89ad34daee7d0c0b17-600x800.jpg]\n",
       "Áo kiểu tay dài sọc phối nút THE CIU – Fora Top   195.000 VND    [https://theciu.vn/wp-content/uploads/2022/05/z3375203135929_43e29b7917977108649910d1347ac4cc-600x800.jpg]\n",
       "Áo kiều croptop nữ cổ vuông – Hava Top            165.000 VND  [https://theciu.vn/wp-content/uploads/2022/05/z3390551996112_326419537fc97c5c79425a9dea0864de-1-600x800.jpg]\n",
       "Áo khoác nữ form rộng Verity Jacket               325.000 VND    [https://theciu.vn/wp-content/uploads/2022/05/z3382177144192_40a1cb007a71574dd8a3078f190c190f-600x800.jpg]\n",
       "Đầm xoè tay ngắn xoắn ngực – Ruby Dress           320.000 VND    [https://theciu.vn/wp-content/uploads/2022/04/z3375508645299_505bf31c0093612afc88f07f96c9f406-600x800.jpg]"
      ]
     },
     "metadata": {},
     "output_type": "display_data"
    }
   ],
   "source": [
    "dict_to_df = {'product_name': product_name_list,'product_price': product_price_list\n",
    "              ,'product_img': img_list}\n",
    "df = pd.DataFrame(dict_to_df)\n",
    "df.set_index('product_name', inplace=True)\n",
    "display(df.head())"
   ]
  },
  {
   "cell_type": "code",
   "execution_count": 41,
   "id": "be4bb86f",
   "metadata": {},
   "outputs": [],
   "source": [
    "pd.options.display.max_colwidth = 1000\n",
    "pd.set_option('display.max_rows', 50000)\n",
    "pd.set_option('display.max_columns', 50000)\n",
    "pd.set_option('display.width', 10000)"
   ]
  },
  {
   "cell_type": "code",
   "execution_count": 42,
   "id": "f98f736a",
   "metadata": {},
   "outputs": [],
   "source": [
    "df[\"product_price\"] = df[\"product_price\"].str[:-4]"
   ]
  },
  {
   "cell_type": "code",
   "execution_count": 43,
   "id": "118133d3",
   "metadata": {},
   "outputs": [],
   "source": [
    "df.to_csv(\"D:\\\\Infinity\\\\theciu3.csv\")"
   ]
  },
  {
   "cell_type": "code",
   "execution_count": 44,
   "id": "85c560b4",
   "metadata": {},
   "outputs": [
    {
     "data": {
      "text/html": [
       "<div>\n",
       "<style scoped>\n",
       "    .dataframe tbody tr th:only-of-type {\n",
       "        vertical-align: middle;\n",
       "    }\n",
       "\n",
       "    .dataframe tbody tr th {\n",
       "        vertical-align: top;\n",
       "    }\n",
       "\n",
       "    .dataframe thead th {\n",
       "        text-align: right;\n",
       "    }\n",
       "</style>\n",
       "<table border=\"1\" class=\"dataframe\">\n",
       "  <thead>\n",
       "    <tr style=\"text-align: right;\">\n",
       "      <th></th>\n",
       "      <th>product_price</th>\n",
       "      <th>product_img</th>\n",
       "    </tr>\n",
       "    <tr>\n",
       "      <th>product_name</th>\n",
       "      <th></th>\n",
       "      <th></th>\n",
       "    </tr>\n",
       "  </thead>\n",
       "  <tbody>\n",
       "    <tr>\n",
       "      <th>Áo ba lỗ croptop – Yomost Top</th>\n",
       "      <td>150.000</td>\n",
       "      <td>[https://theciu.vn/wp-content/uploads/2022/05/z3390940497596_e4e44b95cee9ec89ad34daee7d0c0b17-600x800.jpg]</td>\n",
       "    </tr>\n",
       "    <tr>\n",
       "      <th>Áo kiểu tay dài sọc phối nút THE CIU – Fora Top</th>\n",
       "      <td>195.000</td>\n",
       "      <td>[https://theciu.vn/wp-content/uploads/2022/05/z3375203135929_43e29b7917977108649910d1347ac4cc-600x800.jpg]</td>\n",
       "    </tr>\n",
       "    <tr>\n",
       "      <th>Áo kiều croptop nữ cổ vuông – Hava Top</th>\n",
       "      <td>165.000</td>\n",
       "      <td>[https://theciu.vn/wp-content/uploads/2022/05/z3390551996112_326419537fc97c5c79425a9dea0864de-1-600x800.jpg]</td>\n",
       "    </tr>\n",
       "    <tr>\n",
       "      <th>Áo khoác nữ form rộng Verity Jacket</th>\n",
       "      <td>325.000</td>\n",
       "      <td>[https://theciu.vn/wp-content/uploads/2022/05/z3382177144192_40a1cb007a71574dd8a3078f190c190f-600x800.jpg]</td>\n",
       "    </tr>\n",
       "    <tr>\n",
       "      <th>Đầm xoè tay ngắn xoắn ngực – Ruby Dress</th>\n",
       "      <td>320.000</td>\n",
       "      <td>[https://theciu.vn/wp-content/uploads/2022/04/z3375508645299_505bf31c0093612afc88f07f96c9f406-600x800.jpg]</td>\n",
       "    </tr>\n",
       "    <tr>\n",
       "      <th>Đầm body tay dài THE CIU – Early Dress</th>\n",
       "      <td>275.000</td>\n",
       "      <td>[https://theciu.vn/wp-content/uploads/2022/04/z3352173331228_803fcfbdee4a152f75aa01ad68109861-600x800.jpg]</td>\n",
       "    </tr>\n",
       "    <tr>\n",
       "      <th>Áo Croptop ba lỗ co dãn ôm body – Koko Tank Top</th>\n",
       "      <td>160.000</td>\n",
       "      <td>[https://theciu.vn/wp-content/uploads/2022/04/bce1fa6d0c41c21f9b50-600x800.jpg]</td>\n",
       "    </tr>\n",
       "    <tr>\n",
       "      <th>Đầm babydoll cổ vuông THE CIU – Swan Dress</th>\n",
       "      <td>295.000</td>\n",
       "      <td>[https://theciu.vn/wp-content/uploads/2022/04/z3304985206405_25b010b7c8bc6d9cc2d0354037eb842a-599x800.jpg]</td>\n",
       "    </tr>\n",
       "    <tr>\n",
       "      <th>Áo kiểu hai dây croptop kẻ ô – Celine Top</th>\n",
       "      <td>175.000</td>\n",
       "      <td>[https://theciu.vn/wp-content/uploads/2022/03/00b04f5cde3e1060492f-600x800.jpg]</td>\n",
       "    </tr>\n",
       "    <tr>\n",
       "      <th>Áo khoác măng tô – Godiva Jacket</th>\n",
       "      <td>405.000</td>\n",
       "      <td>[https://theciu.vn/wp-content/uploads/2022/03/1f27d5da589e96c0cf8f-600x800.jpg]</td>\n",
       "    </tr>\n",
       "    <tr>\n",
       "      <th>Đầm hai dây rớt vai THE CIU – Mimosa Dress</th>\n",
       "      <td>295.000</td>\n",
       "      <td>[https://theciu.vn/wp-content/uploads/2022/03/552557f0055aca04934b-593x800.jpg]</td>\n",
       "    </tr>\n",
       "    <tr>\n",
       "      <th>Set tweed áo kiểu chân váy THE CIU – Jennie Set</th>\n",
       "      <td>370.000</td>\n",
       "      <td>[https://theciu.vn/wp-content/uploads/2022/03/68bc8604802c4f72163d-600x800.jpg]</td>\n",
       "    </tr>\n",
       "    <tr>\n",
       "      <th>Đầm hai dây bẹt vai hoa nhí THE CIU – Sunbae Dress</th>\n",
       "      <td>310.000</td>\n",
       "      <td>[https://theciu.vn/wp-content/uploads/2022/03/z3375507834173_cb319003b95ad56d713bc58e3a78232c-600x800.jpg]</td>\n",
       "    </tr>\n",
       "    <tr>\n",
       "      <th>Áo thun tay ngắn in chữ THE CIU – No Drama Tee</th>\n",
       "      <td>245.000</td>\n",
       "      <td>[https://theciu.vn/wp-content/uploads/2022/03/d990a9d798c857960ed9-600x800.jpg]</td>\n",
       "    </tr>\n",
       "    <tr>\n",
       "      <th>Áo kiểu cổ V bo thun eo THE CIU – Andy Top</th>\n",
       "      <td>225.000</td>\n",
       "      <td>[https://theciu.vn/wp-content/uploads/2022/02/e9779b5cb8c2749c2dd3-599x800.jpg]</td>\n",
       "    </tr>\n",
       "    <tr>\n",
       "      <th>Set áo kiểu tay phồng nhung THE CIU – Aiko Velvet Set</th>\n",
       "      <td>430.000</td>\n",
       "      <td>[https://theciu.vn/wp-content/uploads/2022/02/3c3da1b42945e51bbc54-577x800.jpg]</td>\n",
       "    </tr>\n",
       "    <tr>\n",
       "      <th>Áo thun trơn tay ngắn THE CIU – Basic Tee</th>\n",
       "      <td>230.000</td>\n",
       "      <td>[https://theciu.vn/wp-content/uploads/2022/02/820bb79e1e61d23f8b70-600x800.jpg]</td>\n",
       "    </tr>\n",
       "    <tr>\n",
       "      <th>Áo thun tay ngắn THE CIU – California Tee</th>\n",
       "      <td>245.000</td>\n",
       "      <td>[https://theciu.vn/wp-content/uploads/2022/02/8c73c6822674ea2ab365-600x800.jpg]</td>\n",
       "    </tr>\n",
       "    <tr>\n",
       "      <th>Đầm maxi cột eo THE CIU – Winie Maxi Dress</th>\n",
       "      <td>330.000</td>\n",
       "      <td>[https://theciu.vn/wp-content/uploads/2022/02/65166e32c1fa0da454eb-600x800.jpg]</td>\n",
       "    </tr>\n",
       "    <tr>\n",
       "      <th>Đầm babydoll kẻ ô THE CIU – Layla Babydoll Dress</th>\n",
       "      <td>295.000</td>\n",
       "      <td>[https://theciu.vn/wp-content/uploads/2022/01/16732bffe48829d67099-600x800.jpg]</td>\n",
       "    </tr>\n",
       "  </tbody>\n",
       "</table>\n",
       "</div>"
      ],
      "text/plain": [
       "                                                      product_price                                                                                                   product_img\n",
       "product_name                                                                                                                                                                     \n",
       "Áo ba lỗ croptop – Yomost Top                               150.000    [https://theciu.vn/wp-content/uploads/2022/05/z3390940497596_e4e44b95cee9ec89ad34daee7d0c0b17-600x800.jpg]\n",
       "Áo kiểu tay dài sọc phối nút THE CIU – Fora Top             195.000    [https://theciu.vn/wp-content/uploads/2022/05/z3375203135929_43e29b7917977108649910d1347ac4cc-600x800.jpg]\n",
       "Áo kiều croptop nữ cổ vuông – Hava Top                      165.000  [https://theciu.vn/wp-content/uploads/2022/05/z3390551996112_326419537fc97c5c79425a9dea0864de-1-600x800.jpg]\n",
       "Áo khoác nữ form rộng Verity Jacket                         325.000    [https://theciu.vn/wp-content/uploads/2022/05/z3382177144192_40a1cb007a71574dd8a3078f190c190f-600x800.jpg]\n",
       "Đầm xoè tay ngắn xoắn ngực – Ruby Dress                     320.000    [https://theciu.vn/wp-content/uploads/2022/04/z3375508645299_505bf31c0093612afc88f07f96c9f406-600x800.jpg]\n",
       "Đầm body tay dài THE CIU – Early Dress                      275.000    [https://theciu.vn/wp-content/uploads/2022/04/z3352173331228_803fcfbdee4a152f75aa01ad68109861-600x800.jpg]\n",
       "Áo Croptop ba lỗ co dãn ôm body – Koko Tank Top             160.000                               [https://theciu.vn/wp-content/uploads/2022/04/bce1fa6d0c41c21f9b50-600x800.jpg]\n",
       "Đầm babydoll cổ vuông THE CIU – Swan Dress                  295.000    [https://theciu.vn/wp-content/uploads/2022/04/z3304985206405_25b010b7c8bc6d9cc2d0354037eb842a-599x800.jpg]\n",
       "Áo kiểu hai dây croptop kẻ ô – Celine Top                   175.000                               [https://theciu.vn/wp-content/uploads/2022/03/00b04f5cde3e1060492f-600x800.jpg]\n",
       "Áo khoác măng tô – Godiva Jacket                            405.000                               [https://theciu.vn/wp-content/uploads/2022/03/1f27d5da589e96c0cf8f-600x800.jpg]\n",
       "Đầm hai dây rớt vai THE CIU – Mimosa Dress                  295.000                               [https://theciu.vn/wp-content/uploads/2022/03/552557f0055aca04934b-593x800.jpg]\n",
       "Set tweed áo kiểu chân váy THE CIU – Jennie Set             370.000                               [https://theciu.vn/wp-content/uploads/2022/03/68bc8604802c4f72163d-600x800.jpg]\n",
       "Đầm hai dây bẹt vai hoa nhí THE CIU – Sunbae Dress          310.000    [https://theciu.vn/wp-content/uploads/2022/03/z3375507834173_cb319003b95ad56d713bc58e3a78232c-600x800.jpg]\n",
       "Áo thun tay ngắn in chữ THE CIU – No Drama Tee              245.000                               [https://theciu.vn/wp-content/uploads/2022/03/d990a9d798c857960ed9-600x800.jpg]\n",
       "Áo kiểu cổ V bo thun eo THE CIU – Andy Top                  225.000                               [https://theciu.vn/wp-content/uploads/2022/02/e9779b5cb8c2749c2dd3-599x800.jpg]\n",
       "Set áo kiểu tay phồng nhung THE CIU – Aiko Velvet Set       430.000                               [https://theciu.vn/wp-content/uploads/2022/02/3c3da1b42945e51bbc54-577x800.jpg]\n",
       "Áo thun trơn tay ngắn THE CIU – Basic Tee                   230.000                               [https://theciu.vn/wp-content/uploads/2022/02/820bb79e1e61d23f8b70-600x800.jpg]\n",
       "Áo thun tay ngắn THE CIU – California Tee                   245.000                               [https://theciu.vn/wp-content/uploads/2022/02/8c73c6822674ea2ab365-600x800.jpg]\n",
       "Đầm maxi cột eo THE CIU – Winie Maxi Dress                  330.000                               [https://theciu.vn/wp-content/uploads/2022/02/65166e32c1fa0da454eb-600x800.jpg]\n",
       "Đầm babydoll kẻ ô THE CIU – Layla Babydoll Dress            295.000                               [https://theciu.vn/wp-content/uploads/2022/01/16732bffe48829d67099-600x800.jpg]"
      ]
     },
     "execution_count": 44,
     "metadata": {},
     "output_type": "execute_result"
    }
   ],
   "source": [
    "df"
   ]
  },
  {
   "cell_type": "code",
   "execution_count": 45,
   "id": "9be7d863",
   "metadata": {},
   "outputs": [],
   "source": [
    "df[\"product_price\"] = df[\"product_price\"].astype(str)"
   ]
  },
  {
   "cell_type": "code",
   "execution_count": 46,
   "id": "11366534",
   "metadata": {},
   "outputs": [
    {
     "data": {
      "text/html": [
       "<div>\n",
       "<style scoped>\n",
       "    .dataframe tbody tr th:only-of-type {\n",
       "        vertical-align: middle;\n",
       "    }\n",
       "\n",
       "    .dataframe tbody tr th {\n",
       "        vertical-align: top;\n",
       "    }\n",
       "\n",
       "    .dataframe thead th {\n",
       "        text-align: right;\n",
       "    }\n",
       "</style>\n",
       "<table border=\"1\" class=\"dataframe\">\n",
       "  <thead>\n",
       "    <tr style=\"text-align: right;\">\n",
       "      <th></th>\n",
       "      <th>product_price</th>\n",
       "      <th>product_img</th>\n",
       "    </tr>\n",
       "    <tr>\n",
       "      <th>product_name</th>\n",
       "      <th></th>\n",
       "      <th></th>\n",
       "    </tr>\n",
       "  </thead>\n",
       "  <tbody>\n",
       "    <tr>\n",
       "      <th>Áo ba lỗ croptop – Yomost Top</th>\n",
       "      <td>150.000</td>\n",
       "      <td>[https://theciu.vn/wp-content/uploads/2022/05/z3390940497596_e4e44b95cee9ec89ad34daee7d0c0b17-600x800.jpg]</td>\n",
       "    </tr>\n",
       "    <tr>\n",
       "      <th>Áo kiểu tay dài sọc phối nút THE CIU – Fora Top</th>\n",
       "      <td>195.000</td>\n",
       "      <td>[https://theciu.vn/wp-content/uploads/2022/05/z3375203135929_43e29b7917977108649910d1347ac4cc-600x800.jpg]</td>\n",
       "    </tr>\n",
       "    <tr>\n",
       "      <th>Áo kiều croptop nữ cổ vuông – Hava Top</th>\n",
       "      <td>165.000</td>\n",
       "      <td>[https://theciu.vn/wp-content/uploads/2022/05/z3390551996112_326419537fc97c5c79425a9dea0864de-1-600x800.jpg]</td>\n",
       "    </tr>\n",
       "    <tr>\n",
       "      <th>Áo khoác nữ form rộng Verity Jacket</th>\n",
       "      <td>325.000</td>\n",
       "      <td>[https://theciu.vn/wp-content/uploads/2022/05/z3382177144192_40a1cb007a71574dd8a3078f190c190f-600x800.jpg]</td>\n",
       "    </tr>\n",
       "    <tr>\n",
       "      <th>Đầm xoè tay ngắn xoắn ngực – Ruby Dress</th>\n",
       "      <td>320.000</td>\n",
       "      <td>[https://theciu.vn/wp-content/uploads/2022/04/z3375508645299_505bf31c0093612afc88f07f96c9f406-600x800.jpg]</td>\n",
       "    </tr>\n",
       "    <tr>\n",
       "      <th>Đầm body tay dài THE CIU – Early Dress</th>\n",
       "      <td>275.000</td>\n",
       "      <td>[https://theciu.vn/wp-content/uploads/2022/04/z3352173331228_803fcfbdee4a152f75aa01ad68109861-600x800.jpg]</td>\n",
       "    </tr>\n",
       "    <tr>\n",
       "      <th>Áo Croptop ba lỗ co dãn ôm body – Koko Tank Top</th>\n",
       "      <td>160.000</td>\n",
       "      <td>[https://theciu.vn/wp-content/uploads/2022/04/bce1fa6d0c41c21f9b50-600x800.jpg]</td>\n",
       "    </tr>\n",
       "    <tr>\n",
       "      <th>Đầm babydoll cổ vuông THE CIU – Swan Dress</th>\n",
       "      <td>295.000</td>\n",
       "      <td>[https://theciu.vn/wp-content/uploads/2022/04/z3304985206405_25b010b7c8bc6d9cc2d0354037eb842a-599x800.jpg]</td>\n",
       "    </tr>\n",
       "    <tr>\n",
       "      <th>Áo kiểu hai dây croptop kẻ ô – Celine Top</th>\n",
       "      <td>175.000</td>\n",
       "      <td>[https://theciu.vn/wp-content/uploads/2022/03/00b04f5cde3e1060492f-600x800.jpg]</td>\n",
       "    </tr>\n",
       "    <tr>\n",
       "      <th>Áo khoác măng tô – Godiva Jacket</th>\n",
       "      <td>405.000</td>\n",
       "      <td>[https://theciu.vn/wp-content/uploads/2022/03/1f27d5da589e96c0cf8f-600x800.jpg]</td>\n",
       "    </tr>\n",
       "    <tr>\n",
       "      <th>Đầm hai dây rớt vai THE CIU – Mimosa Dress</th>\n",
       "      <td>295.000</td>\n",
       "      <td>[https://theciu.vn/wp-content/uploads/2022/03/552557f0055aca04934b-593x800.jpg]</td>\n",
       "    </tr>\n",
       "    <tr>\n",
       "      <th>Set tweed áo kiểu chân váy THE CIU – Jennie Set</th>\n",
       "      <td>370.000</td>\n",
       "      <td>[https://theciu.vn/wp-content/uploads/2022/03/68bc8604802c4f72163d-600x800.jpg]</td>\n",
       "    </tr>\n",
       "    <tr>\n",
       "      <th>Đầm hai dây bẹt vai hoa nhí THE CIU – Sunbae Dress</th>\n",
       "      <td>310.000</td>\n",
       "      <td>[https://theciu.vn/wp-content/uploads/2022/03/z3375507834173_cb319003b95ad56d713bc58e3a78232c-600x800.jpg]</td>\n",
       "    </tr>\n",
       "    <tr>\n",
       "      <th>Áo thun tay ngắn in chữ THE CIU – No Drama Tee</th>\n",
       "      <td>245.000</td>\n",
       "      <td>[https://theciu.vn/wp-content/uploads/2022/03/d990a9d798c857960ed9-600x800.jpg]</td>\n",
       "    </tr>\n",
       "    <tr>\n",
       "      <th>Áo kiểu cổ V bo thun eo THE CIU – Andy Top</th>\n",
       "      <td>225.000</td>\n",
       "      <td>[https://theciu.vn/wp-content/uploads/2022/02/e9779b5cb8c2749c2dd3-599x800.jpg]</td>\n",
       "    </tr>\n",
       "    <tr>\n",
       "      <th>Set áo kiểu tay phồng nhung THE CIU – Aiko Velvet Set</th>\n",
       "      <td>430.000</td>\n",
       "      <td>[https://theciu.vn/wp-content/uploads/2022/02/3c3da1b42945e51bbc54-577x800.jpg]</td>\n",
       "    </tr>\n",
       "    <tr>\n",
       "      <th>Áo thun trơn tay ngắn THE CIU – Basic Tee</th>\n",
       "      <td>230.000</td>\n",
       "      <td>[https://theciu.vn/wp-content/uploads/2022/02/820bb79e1e61d23f8b70-600x800.jpg]</td>\n",
       "    </tr>\n",
       "    <tr>\n",
       "      <th>Áo thun tay ngắn THE CIU – California Tee</th>\n",
       "      <td>245.000</td>\n",
       "      <td>[https://theciu.vn/wp-content/uploads/2022/02/8c73c6822674ea2ab365-600x800.jpg]</td>\n",
       "    </tr>\n",
       "    <tr>\n",
       "      <th>Đầm maxi cột eo THE CIU – Winie Maxi Dress</th>\n",
       "      <td>330.000</td>\n",
       "      <td>[https://theciu.vn/wp-content/uploads/2022/02/65166e32c1fa0da454eb-600x800.jpg]</td>\n",
       "    </tr>\n",
       "    <tr>\n",
       "      <th>Đầm babydoll kẻ ô THE CIU – Layla Babydoll Dress</th>\n",
       "      <td>295.000</td>\n",
       "      <td>[https://theciu.vn/wp-content/uploads/2022/01/16732bffe48829d67099-600x800.jpg]</td>\n",
       "    </tr>\n",
       "  </tbody>\n",
       "</table>\n",
       "</div>"
      ],
      "text/plain": [
       "                                                      product_price                                                                                                   product_img\n",
       "product_name                                                                                                                                                                     \n",
       "Áo ba lỗ croptop – Yomost Top                               150.000    [https://theciu.vn/wp-content/uploads/2022/05/z3390940497596_e4e44b95cee9ec89ad34daee7d0c0b17-600x800.jpg]\n",
       "Áo kiểu tay dài sọc phối nút THE CIU – Fora Top             195.000    [https://theciu.vn/wp-content/uploads/2022/05/z3375203135929_43e29b7917977108649910d1347ac4cc-600x800.jpg]\n",
       "Áo kiều croptop nữ cổ vuông – Hava Top                      165.000  [https://theciu.vn/wp-content/uploads/2022/05/z3390551996112_326419537fc97c5c79425a9dea0864de-1-600x800.jpg]\n",
       "Áo khoác nữ form rộng Verity Jacket                         325.000    [https://theciu.vn/wp-content/uploads/2022/05/z3382177144192_40a1cb007a71574dd8a3078f190c190f-600x800.jpg]\n",
       "Đầm xoè tay ngắn xoắn ngực – Ruby Dress                     320.000    [https://theciu.vn/wp-content/uploads/2022/04/z3375508645299_505bf31c0093612afc88f07f96c9f406-600x800.jpg]\n",
       "Đầm body tay dài THE CIU – Early Dress                      275.000    [https://theciu.vn/wp-content/uploads/2022/04/z3352173331228_803fcfbdee4a152f75aa01ad68109861-600x800.jpg]\n",
       "Áo Croptop ba lỗ co dãn ôm body – Koko Tank Top             160.000                               [https://theciu.vn/wp-content/uploads/2022/04/bce1fa6d0c41c21f9b50-600x800.jpg]\n",
       "Đầm babydoll cổ vuông THE CIU – Swan Dress                  295.000    [https://theciu.vn/wp-content/uploads/2022/04/z3304985206405_25b010b7c8bc6d9cc2d0354037eb842a-599x800.jpg]\n",
       "Áo kiểu hai dây croptop kẻ ô – Celine Top                   175.000                               [https://theciu.vn/wp-content/uploads/2022/03/00b04f5cde3e1060492f-600x800.jpg]\n",
       "Áo khoác măng tô – Godiva Jacket                            405.000                               [https://theciu.vn/wp-content/uploads/2022/03/1f27d5da589e96c0cf8f-600x800.jpg]\n",
       "Đầm hai dây rớt vai THE CIU – Mimosa Dress                  295.000                               [https://theciu.vn/wp-content/uploads/2022/03/552557f0055aca04934b-593x800.jpg]\n",
       "Set tweed áo kiểu chân váy THE CIU – Jennie Set             370.000                               [https://theciu.vn/wp-content/uploads/2022/03/68bc8604802c4f72163d-600x800.jpg]\n",
       "Đầm hai dây bẹt vai hoa nhí THE CIU – Sunbae Dress          310.000    [https://theciu.vn/wp-content/uploads/2022/03/z3375507834173_cb319003b95ad56d713bc58e3a78232c-600x800.jpg]\n",
       "Áo thun tay ngắn in chữ THE CIU – No Drama Tee              245.000                               [https://theciu.vn/wp-content/uploads/2022/03/d990a9d798c857960ed9-600x800.jpg]\n",
       "Áo kiểu cổ V bo thun eo THE CIU – Andy Top                  225.000                               [https://theciu.vn/wp-content/uploads/2022/02/e9779b5cb8c2749c2dd3-599x800.jpg]\n",
       "Set áo kiểu tay phồng nhung THE CIU – Aiko Velvet Set       430.000                               [https://theciu.vn/wp-content/uploads/2022/02/3c3da1b42945e51bbc54-577x800.jpg]\n",
       "Áo thun trơn tay ngắn THE CIU – Basic Tee                   230.000                               [https://theciu.vn/wp-content/uploads/2022/02/820bb79e1e61d23f8b70-600x800.jpg]\n",
       "Áo thun tay ngắn THE CIU – California Tee                   245.000                               [https://theciu.vn/wp-content/uploads/2022/02/8c73c6822674ea2ab365-600x800.jpg]\n",
       "Đầm maxi cột eo THE CIU – Winie Maxi Dress                  330.000                               [https://theciu.vn/wp-content/uploads/2022/02/65166e32c1fa0da454eb-600x800.jpg]\n",
       "Đầm babydoll kẻ ô THE CIU – Layla Babydoll Dress            295.000                               [https://theciu.vn/wp-content/uploads/2022/01/16732bffe48829d67099-600x800.jpg]"
      ]
     },
     "execution_count": 46,
     "metadata": {},
     "output_type": "execute_result"
    }
   ],
   "source": [
    "df"
   ]
  },
  {
   "cell_type": "code",
   "execution_count": 29,
   "id": "4f0bd3c1",
   "metadata": {},
   "outputs": [],
   "source": [
    "df.to_csv(\"D:\\\\Infinity\\\\theciu_dress.csv\")"
   ]
  },
  {
   "cell_type": "code",
   "execution_count": 30,
   "id": "1bed8789",
   "metadata": {},
   "outputs": [
    {
     "data": {
      "text/plain": [
       "product_price     object\n",
       "product_img      float64\n",
       "dtype: object"
      ]
     },
     "execution_count": 30,
     "metadata": {},
     "output_type": "execute_result"
    }
   ],
   "source": [
    "df.dtypes"
   ]
  },
  {
   "cell_type": "code",
   "execution_count": 31,
   "id": "37d7dcef",
   "metadata": {},
   "outputs": [],
   "source": [
    "import numpy as np\n",
    "df = df.astype({\"product_price\": str}, errors='raise') "
   ]
  },
  {
   "cell_type": "code",
   "execution_count": 32,
   "id": "505b71f4",
   "metadata": {},
   "outputs": [
    {
     "data": {
      "text/plain": [
       "product_price     object\n",
       "product_img      float64\n",
       "dtype: object"
      ]
     },
     "execution_count": 32,
     "metadata": {},
     "output_type": "execute_result"
    }
   ],
   "source": [
    "df.dtypes"
   ]
  },
  {
   "cell_type": "code",
   "execution_count": 33,
   "id": "759ac383",
   "metadata": {},
   "outputs": [],
   "source": [
    "df[\"product_price\"] = df[\"product_price\"].replace(\".\", \"\")"
   ]
  },
  {
   "cell_type": "code",
   "execution_count": 34,
   "id": "f5ce625e",
   "metadata": {},
   "outputs": [
    {
     "data": {
      "text/html": [
       "<div>\n",
       "<style scoped>\n",
       "    .dataframe tbody tr th:only-of-type {\n",
       "        vertical-align: middle;\n",
       "    }\n",
       "\n",
       "    .dataframe tbody tr th {\n",
       "        vertical-align: top;\n",
       "    }\n",
       "\n",
       "    .dataframe thead th {\n",
       "        text-align: right;\n",
       "    }\n",
       "</style>\n",
       "<table border=\"1\" class=\"dataframe\">\n",
       "  <thead>\n",
       "    <tr style=\"text-align: right;\">\n",
       "      <th></th>\n",
       "      <th>product_price</th>\n",
       "      <th>product_img</th>\n",
       "    </tr>\n",
       "    <tr>\n",
       "      <th>product_name</th>\n",
       "      <th></th>\n",
       "      <th></th>\n",
       "    </tr>\n",
       "  </thead>\n",
       "  <tbody>\n",
       "  </tbody>\n",
       "</table>\n",
       "</div>"
      ],
      "text/plain": [
       "Empty DataFrame\n",
       "Columns: [product_price, product_img]\n",
       "Index: []"
      ]
     },
     "execution_count": 34,
     "metadata": {},
     "output_type": "execute_result"
    }
   ],
   "source": [
    "df"
   ]
  },
  {
   "cell_type": "code",
   "execution_count": 35,
   "id": "b6e50188",
   "metadata": {},
   "outputs": [],
   "source": [
    "df[\"product_price\"] = [x.rstrip('.') for x in df[\"product_price\"]]"
   ]
  },
  {
   "cell_type": "code",
   "execution_count": 36,
   "id": "ada5c4eb",
   "metadata": {},
   "outputs": [
    {
     "data": {
      "text/html": [
       "<div>\n",
       "<style scoped>\n",
       "    .dataframe tbody tr th:only-of-type {\n",
       "        vertical-align: middle;\n",
       "    }\n",
       "\n",
       "    .dataframe tbody tr th {\n",
       "        vertical-align: top;\n",
       "    }\n",
       "\n",
       "    .dataframe thead th {\n",
       "        text-align: right;\n",
       "    }\n",
       "</style>\n",
       "<table border=\"1\" class=\"dataframe\">\n",
       "  <thead>\n",
       "    <tr style=\"text-align: right;\">\n",
       "      <th></th>\n",
       "      <th>product_price</th>\n",
       "      <th>product_img</th>\n",
       "    </tr>\n",
       "    <tr>\n",
       "      <th>product_name</th>\n",
       "      <th></th>\n",
       "      <th></th>\n",
       "    </tr>\n",
       "  </thead>\n",
       "  <tbody>\n",
       "  </tbody>\n",
       "</table>\n",
       "</div>"
      ],
      "text/plain": [
       "Empty DataFrame\n",
       "Columns: [product_price, product_img]\n",
       "Index: []"
      ]
     },
     "execution_count": 36,
     "metadata": {},
     "output_type": "execute_result"
    }
   ],
   "source": [
    "df"
   ]
  },
  {
   "cell_type": "code",
   "execution_count": null,
   "id": "29a5cb7d",
   "metadata": {},
   "outputs": [],
   "source": []
  },
  {
   "cell_type": "code",
   "execution_count": null,
   "id": "b4ab908c",
   "metadata": {},
   "outputs": [],
   "source": []
  }
 ],
 "metadata": {
  "kernelspec": {
   "display_name": "Python 3",
   "language": "python",
   "name": "python3"
  },
  "language_info": {
   "codemirror_mode": {
    "name": "ipython",
    "version": 3
   },
   "file_extension": ".py",
   "mimetype": "text/x-python",
   "name": "python",
   "nbconvert_exporter": "python",
   "pygments_lexer": "ipython3",
   "version": "3.8.8"
  }
 },
 "nbformat": 4,
 "nbformat_minor": 5
}
